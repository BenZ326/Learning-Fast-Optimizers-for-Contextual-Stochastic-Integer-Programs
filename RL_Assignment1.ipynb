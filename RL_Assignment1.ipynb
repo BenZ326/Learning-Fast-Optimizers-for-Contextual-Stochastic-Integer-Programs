{
 "cells": [
  {
   "cell_type": "markdown",
   "metadata": {},
   "source": [
    "Initialize the parameters:"
   ]
  },
  {
   "cell_type": "code",
   "execution_count": 50,
   "metadata": {
    "collapsed": false
   },
   "outputs": [],
   "source": [
    "import numpy as np\n",
    "epslon=0.01\n",
    "delta=0.1\n",
    "r_k=1\n",
    "Arm_Means={'1':1,'2':0.8,'3':0.6,'4':0.4,'5':0.2,'6':0}\n",
    "Omega={1,2,3,4,5,6}\n",
    "Sample_Records={}\n",
    "for arm in Omega:\n",
    "    Sample_Records[str(arm)]=[]"
   ]
  },
  {
   "cell_type": "markdown",
   "metadata": {},
   "source": [
    "Calculate the estimation value for a particular arm till the current time step"
   ]
  },
  {
   "cell_type": "code",
   "execution_count": 51,
   "metadata": {
    "collapsed": true
   },
   "outputs": [],
   "source": [
    "def CalEstimation(Sample_Records,arm):\n",
    "    sampled_list=Sample_Records[str(arm)]\n",
    "    length=len(sampled_list)\n",
    "    if length==0:\n",
    "        return 0\n",
    "    else:\n",
    "        return sum(sampled_list)/length"
   ]
  },
  {
   "cell_type": "code",
   "execution_count": 59,
   "metadata": {
    "collapsed": true
   },
   "outputs": [],
   "source": [
    "#r_k is the number of sample tiems, arm is the arm to pull\n",
    "def Sample(r_k,Arm_Means,arm):\n",
    "    for i in range(r_k):\n",
    "        means=Arm_Means[str(arm)]\n",
    "        s=np.random.normal(means,0.5)\n",
    "        Sample_Records[str(arm)].append(s)"
   ]
  },
  {
   "cell_type": "code",
   "execution_count": 61,
   "metadata": {
    "collapsed": true
   },
   "outputs": [],
   "source": [
    "#get the arm index with highest estimated value\n",
    "def argmax_arm(Sample_Records):\n",
    "    max_index,max_value=-1,-1\n",
    "    for arm in Sample_Records:\n",
    "        tmp=CalEstimation(Sample_Records,arm)\n",
    "        if(tmp>max_value):\n",
    "            max_index,max_value=arm,tmp\n",
    "    return max_index,max_value"
   ]
  },
  {
   "cell_type": "markdown",
   "metadata": {},
   "source": [
    "Action Elimination Algorithm:"
   ]
  },
  {
   "cell_type": "code",
   "execution_count": 32,
   "metadata": {
    "collapsed": false
   },
   "outputs": [
    {
     "ename": "SyntaxError",
     "evalue": "unexpected EOF while parsing (<ipython-input-32-50f19b95b287>, line 3)",
     "output_type": "error",
     "traceback": [
      "\u001b[0;36m  File \u001b[0;32m\"<ipython-input-32-50f19b95b287>\"\u001b[0;36m, line \u001b[0;32m3\u001b[0m\n\u001b[0;31m    \u001b[0m\n\u001b[0m    ^\u001b[0m\n\u001b[0;31mSyntaxError\u001b[0m\u001b[0;31m:\u001b[0m unexpected EOF while parsing\n"
     ]
    }
   ],
   "source": [
    "while(len(Omega)>0):\n",
    "    new_Omega={}\n",
    "    a_index,a_value=argmax_arm(Sample_Records)\n",
    "    for arm in Omega:\n",
    "        Sample(r_k,Arm_Means,arm)\n",
    "    for arm in Omega:\n",
    "               "
   ]
  },
  {
   "cell_type": "code",
   "execution_count": 48,
   "metadata": {
    "collapsed": false
   },
   "outputs": [
    {
     "data": {
      "text/plain": [
       "'1'"
      ]
     },
     "execution_count": 48,
     "metadata": {},
     "output_type": "execute_result"
    }
   ],
   "source": [
    "str(1)"
   ]
  },
  {
   "cell_type": "code",
   "execution_count": 57,
   "metadata": {
    "collapsed": false
   },
   "outputs": [],
   "source": [
    "Sample(1,Arm_Means,1)"
   ]
  },
  {
   "cell_type": "code",
   "execution_count": 58,
   "metadata": {
    "collapsed": false
   },
   "outputs": [
    {
     "data": {
      "text/plain": [
       "{'1': [0.7261146021052178, 1.2214202934186345, 1.55368415621987],\n",
       " '2': [],\n",
       " '3': [],\n",
       " '4': [],\n",
       " '5': [],\n",
       " '6': []}"
      ]
     },
     "execution_count": 58,
     "metadata": {},
     "output_type": "execute_result"
    }
   ],
   "source": [
    "Sample_Records"
   ]
  },
  {
   "cell_type": "code",
   "execution_count": 62,
   "metadata": {
    "collapsed": false
   },
   "outputs": [],
   "source": [
    "a=argmax_arm(Sample_Records)"
   ]
  },
  {
   "cell_type": "code",
   "execution_count": 63,
   "metadata": {
    "collapsed": false
   },
   "outputs": [
    {
     "data": {
      "text/plain": [
       "('1', 1.1670730172479074)"
      ]
     },
     "execution_count": 63,
     "metadata": {},
     "output_type": "execute_result"
    }
   ],
   "source": [
    "a"
   ]
  },
  {
   "cell_type": "code",
   "execution_count": null,
   "metadata": {
    "collapsed": true
   },
   "outputs": [],
   "source": []
  }
 ],
 "metadata": {
  "kernelspec": {
   "display_name": "Python 3",
   "language": "python",
   "name": "python3"
  },
  "language_info": {
   "codemirror_mode": {
    "name": "ipython",
    "version": 3
   },
   "file_extension": ".py",
   "mimetype": "text/x-python",
   "name": "python",
   "nbconvert_exporter": "python",
   "pygments_lexer": "ipython3",
   "version": "3.6.0"
  }
 },
 "nbformat": 4,
 "nbformat_minor": 2
}
